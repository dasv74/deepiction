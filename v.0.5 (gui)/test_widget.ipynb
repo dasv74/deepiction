{
 "cells": [
  {
   "cell_type": "code",
   "execution_count": 7,
   "id": "36a6087b",
   "metadata": {},
   "outputs": [
    {
     "data": {
      "application/vnd.jupyter.widget-view+json": {
       "model_id": "edb0fdfa31384b6087dee3e290841538",
       "version_major": 2,
       "version_minor": 0
      },
      "text/plain": [
       "IntSlider(value=2, description='IntSlider', style=SliderStyle(handle_color='lightblue'))"
      ]
     },
     "metadata": {},
     "output_type": "display_data"
    },
    {
     "data": {
      "application/vnd.jupyter.widget-view+json": {
       "model_id": "441a9375ac1d48feae114f3de8e7bc85",
       "version_major": 2,
       "version_minor": 0
      },
      "text/plain": [
       "FloatSlider(value=3.0, description='FloatSlider', style=SliderStyle(handle_color='lightblue'))"
      ]
     },
     "metadata": {},
     "output_type": "display_data"
    },
    {
     "data": {
      "application/vnd.jupyter.widget-view+json": {
       "model_id": "693b968757894544ab7ad3afd690ecd1",
       "version_major": 2,
       "version_minor": 0
      },
      "text/plain": [
       "FloatRangeSlider(value=(-1.0, 1.0), description='xlim:', max=5.0, min=-5.0, readout_format='.1f', style=Slider…"
      ]
     },
     "metadata": {},
     "output_type": "display_data"
    },
    {
     "data": {
      "application/vnd.jupyter.widget-view+json": {
       "model_id": "8f87567448ca41c2a1aed05787856d03",
       "version_major": 2,
       "version_minor": 0
      },
      "text/plain": [
       "BoundedIntText(value=7, description='Text:', max=10, tooltip='Description')"
      ]
     },
     "metadata": {},
     "output_type": "display_data"
    },
    {
     "data": {
      "application/vnd.jupyter.widget-view+json": {
       "model_id": "e6b57d109794412e8cef6fdc08ec2ea1",
       "version_major": 2,
       "version_minor": 0
      },
      "text/plain": [
       "Dropdown(description='Number:', index=1, options=('1', '2', '3'), value='2')"
      ]
     },
     "metadata": {},
     "output_type": "display_data"
    },
    {
     "data": {
      "application/vnd.jupyter.widget-view+json": {
       "model_id": "90de04431fbd45caba0e713abf980a5b",
       "version_major": 2,
       "version_minor": 0
      },
      "text/plain": [
       "RadioButtons(description='Pizza topping:', index=1, options=('pepperoni', 'pineapple', 'anchovies'), value='pi…"
      ]
     },
     "metadata": {},
     "output_type": "display_data"
    },
    {
     "data": {
      "application/vnd.jupyter.widget-view+json": {
       "model_id": "a8b9017a412849ef871b6a5895ab5a8f",
       "version_major": 2,
       "version_minor": 0
      },
      "text/plain": [
       "TwoByTwoLayout(children=(Checkbox(value=False, description='Click me 1', layout=Layout(grid_area='top-left'), …"
      ]
     },
     "execution_count": 7,
     "metadata": {},
     "output_type": "execute_result"
    }
   ],
   "source": [
    "from ipywidgets import HTML, Box, VBox, HBox, Output, Button, Layout, TwoByTwoLayout, RadioButtons, Dropdown, Checkbox, IntSlider, FloatSlider, FloatRangeSlider, BoundedIntText, TwoByTwoLayout\n",
    "\n",
    "sint = IntSlider(name='aa', value=2, min=0, max=100, description='IntSlider')\n",
    "sint.style.handle_color = 'lightblue'\n",
    "display(sint)\n",
    "\n",
    "sfloat = FloatSlider(value=3, min=0, max=100, step=0.1, description='FloatSlider')\n",
    "sfloat.style.handle_color = 'lightblue'\n",
    "display(sfloat)\n",
    "\n",
    "range_slider = FloatRangeSlider(value=[-1., +1.], min=-5., max=+5., step=0.1, description='xlim:', readout_format='.1f',)\n",
    "range_slider.style.handle_color = 'lightblue'\n",
    "display(range_slider)\n",
    "\n",
    "bit = BoundedIntText(value=7, min=0, max=10, step=1, tooltip='Description', description='Text:')\n",
    "display(bit)\n",
    "\n",
    "cb1 = Checkbox(value=False, description='Click me 1', tooltip='Description', icon='check')\n",
    "cb2 = Checkbox(value=True, description='Click me 2', tooltip='Description', icon='check')\n",
    "\n",
    "\n",
    "\n",
    "dd = Dropdown(options=['1', '2', '3'], value='2', description='Number:')\n",
    "display(dd)\n",
    "\n",
    "rb = RadioButtons(\n",
    "    options=['pepperoni', 'pineapple', 'anchovies'],\n",
    "    value='pineapple',\n",
    "    description='Pizza topping:'\n",
    ")\n",
    "display(rb)\n",
    "\n",
    "TwoByTwoLayout(top_left=cb1,\n",
    "               top_right=cb2,\n",
    "               bottom_left=bit,\n",
    "               bottom_right=range_slider)\n",
    "\n"
   ]
  },
  {
   "cell_type": "code",
   "execution_count": 39,
   "id": "0d5f54a3",
   "metadata": {},
   "outputs": [
    {
     "name": "stdout",
     "output_type": "stream",
     "text": [
      "2\n",
      "3.0\n",
      "(-1.0, 1.0)\n",
      "7\n"
     ]
    }
   ],
   "source": [
    "print(sint.value)\n",
    "print(sfloat.value)\n",
    "print(range_slider.value)\n",
    "print(bit.value)"
   ]
  },
  {
   "cell_type": "code",
   "execution_count": 72,
   "id": "054d4166",
   "metadata": {},
   "outputs": [
    {
     "data": {
      "application/vnd.jupyter.widget-view+json": {
       "model_id": "8fab83e248bd430b8edc2bfb33b507a2",
       "version_major": 2,
       "version_minor": 0
      },
      "text/plain": [
       "VBox(children=(Button(description='My Button', layout=Layout(border_bottom='2px solid lightblue', border_left=…"
      ]
     },
     "execution_count": 72,
     "metadata": {},
     "output_type": "execute_result"
    }
   ],
   "source": [
    "button = Button(description='My Button', layout={'border': '2px solid lightblue'})\n",
    "button.style.button_color = 'lightblue'\n",
    "out = Output(layout={'border': '2px solid lightblue'})\n",
    "with out: print('hello')\n",
    "def on_button_clicked(_):\n",
    "    with out:\n",
    "        out.clear_output()\n",
    "        print('Something happens!')\n",
    "        print('Something happens!')\n",
    "button.on_click(on_button_clicked)\n",
    "\n",
    "VBox([button,out])"
   ]
  },
  {
   "cell_type": "code",
   "execution_count": 121,
   "id": "42050a1b",
   "metadata": {},
   "outputs": [
    {
     "name": "stdout",
     "output_type": "stream",
     "text": [
      "['_dom_classes', '_model_module', '_model_module_version', '_model_name', '_view_count', '_view_module', '_view_module_version', '_view_name', 'behavior', 'continuous_update', 'description', 'description_allow_html', 'disabled', 'layout', 'max', 'min', 'orientation', 'readout', 'readout_format', 'step', 'style', 'tabbable', 'tooltip', 'value']\n",
      "['_model_module', '_model_module_version', '_model_name', '_view_count', '_view_module', '_view_module_version', '_view_name', 'description_width', 'handle_color']\n",
      "['_dom_classes', '_model_module', '_model_module_version', '_model_name', '_view_count', '_view_module', '_view_module_version', '_view_name', 'layout', 'msg_id', 'outputs', 'tabbable', 'tooltip']\n"
     ]
    },
    {
     "data": {
      "application/vnd.jupyter.widget-view+json": {
       "model_id": "7724df7577164908a26556a53cf1057e",
       "version_major": 2,
       "version_minor": 0
      },
      "text/plain": [
       "HBox(children=(IntSlider(value=0, description='$\\\\int_0^t f$'), Output(layout=Layout(border_bottom='1px solid …"
      ]
     },
     "execution_count": 121,
     "metadata": {},
     "output_type": "execute_result"
    }
   ],
   "source": [
    "int_range = IntSlider(description='$\\int_0^t f$', description_width=300)\n",
    "print(int_range.keys)\n",
    "print(int_range.style.keys)\n",
    "output2 = Output(layout={'border': '1px solid black'})\n",
    "print(output2.keys)\n",
    "\n",
    "def on_value_change(change):\n",
    "    with output2:\n",
    "        output2.clear_output()\n",
    "        value = change['new']\n",
    "\n",
    "int_range.observe(on_value_change, names='value')\n",
    "HBox([int_range, output2])"
   ]
  },
  {
   "cell_type": "code",
   "execution_count": 52,
   "id": "553c40b1",
   "metadata": {},
   "outputs": [
    {
     "data": {
      "application/vnd.jupyter.widget-view+json": {
       "model_id": "970c81026ce74a18bc714811f63a9989",
       "version_major": 2,
       "version_minor": 0
      },
      "text/plain": [
       "interactive(children=(FloatSlider(value=1000.0, description='Parameter A', max=100000.0, min=1000.0, step=1000…"
      ]
     },
     "metadata": {},
     "output_type": "display_data"
    },
    {
     "data": {
      "text/plain": [
       "<function __main__.update(a)>"
      ]
     },
     "execution_count": 52,
     "metadata": {},
     "output_type": "execute_result"
    }
   ],
   "source": [
    "from ipywidgets import interact, FloatSlider\n",
    "\n",
    "def update(a):\n",
    "    print(a)\n",
    "\n",
    "interact(update, a=FloatSlider(min=1000., max=100000., step=1000, value=10, description='Parameter A'))"
   ]
  },
  {
   "cell_type": "code",
   "execution_count": 8,
   "id": "cbd90bc2",
   "metadata": {},
   "outputs": [
    {
     "data": {
      "application/vnd.jupyter.widget-view+json": {
       "model_id": "afd0ab4f691a4e1d862748ceb41a9d61",
       "version_major": 2,
       "version_minor": 0
      },
      "text/plain": [
       "VBox(box_style='info', children=(HTML(value='<style>.widget-html-content { color: #222; font-size: 1.15em !imp…"
      ]
     },
     "execution_count": 8,
     "metadata": {},
     "output_type": "execute_result"
    }
   ],
   "source": [
    "style = '<style> th, td { padding: 3px; } .dataframe { background-color: white; color black; font-size: 0.85em !important; } .widget-html-content { color: #222; font-size: 1.2em !important; } .widget-label { font-size: 1.05em !important; }</style>'\n",
    "archs_list = ['PT-unet', 'TF-unet', 'TF-resnet']\n",
    "archs_dd = Dropdown(options=archs_list, value=archs_list[0], description='Network')\n",
    "archs_title = HTML(value=style + '<b>Selection of the Neural Network Architecture (inc. Frameworks) </b>')\n",
    "archs_info = HTML(value='No selection<br><i>Note: A framework is also selected ...</i>')\n",
    "archs_info.style.background = '#D0E8FF'\n",
    "\n",
    "archs_info.layout.padding = '0px 5px 0px 5px'\n",
    "archs_dd.layout.padding = '0px 5px 0px 5px'\n",
    "archs_title.layout.padding = '0px 5px 0px 5px'\n",
    "archs_info.layout.margin = '5px 0px 0px 0px'\n",
    "\n",
    "def on_change(change):\n",
    "    value = change['new']\n",
    "    framework = value[:3]\n",
    "    if framework == 'PT-': archs_info.value = '<b>Framework: PyTorch'\n",
    "    if framework == 'TF-': archs_info.value = 'Framework: TensorFlow'\n",
    "archs_dd.observe(on_change, names='value')\n",
    "archs_vbox = VBox([archs_title, archs_dd, archs_info])\n",
    "archs_vbox.box_style = 'info'\n",
    "archs_vbox.layout.padding = '0px 0px 0px 0px'\n",
    "archs_vbox.layout.margin = '0px 0px 0px 0px'\n",
    "archs_vbox"
   ]
  },
  {
   "cell_type": "code",
   "execution_count": 6,
   "id": "625ad53e",
   "metadata": {},
   "outputs": [
    {
     "data": {
      "application/vnd.jupyter.widget-view+json": {
       "model_id": "b11118d3a88d426fb75612612c5d8f5c",
       "version_major": 2,
       "version_minor": 0
      },
      "text/plain": [
       "VBox(box_style='info', children=(HTML(value='<style>.widget-html-content { color: #222; font-size: 1.15em !imp…"
      ]
     },
     "execution_count": 6,
     "metadata": {},
     "output_type": "execute_result"
    }
   ],
   "source": [
    "style = '<style>.widget-html-content { color: #222; font-size: 1.15em !important; }.widget-label { font-size: 1.15em !important; }</style>'\n",
    "nimages = 100\n",
    "nimages_slider = IntSlider(name='nimage', value=nimages, min=1, max=nimages, description='$n_{\\mbox{im}}$', description_width=600)\n",
    "nimages_slider.style.handle_color = 'lightblue'\n",
    "\n",
    "nimages_title = HTML(value=style + '<b>Selection the number of images for the training</b>')\n",
    "nimages_info = HTML(value='No selection')\n",
    "nimages_info.style.background = '#D0E8FF'\n",
    "\n",
    "nimages_info.layout.padding = '0px 5px 0px 5px'\n",
    "nimages_slider.layout.padding = '0px 5px 0px 5px'\n",
    "nimages_title.layout.padding = '0px 5px 0px 5px'\n",
    "nimages_info.layout.margin = '5px 0px 0px 0px'\n",
    "\n",
    "button = Button(description='Load', layout={'border': '2px solid lightblue'})\n",
    "button.style.button_color = 'lightblue'\n",
    "def on_button_clicked(_):\n",
    "    value = change['new']\n",
    "    nimages_info.value = '<b>Number of images: ' + str(value)\n",
    "button.on_click(on_button_clicked)\n",
    "\n",
    "\n",
    "nimages_vbox = VBox([nimages_title, nimages_slider, button, nimages_info])\n",
    "nimages_vbox.box_style = 'info'\n",
    "nimages_vbox.layout.padding = '0px 0px 0px 0px'\n",
    "nimages_vbox.layout.margin = '0px 0px 0px 0px'\n",
    "nimages_vbox"
   ]
  },
  {
   "cell_type": "code",
   "execution_count": 12,
   "id": "d369f1a6",
   "metadata": {},
   "outputs": [
    {
     "data": {
      "application/vnd.jupyter.widget-view+json": {
       "model_id": "7f2ec6de69514a80ad80a6b199410149",
       "version_major": 2,
       "version_minor": 0
      },
      "text/plain": [
       "VBox(box_style='info', children=(Output(), Dropdown(description='Network', options=('PT-unet', 'TF-unet', 'TF-…"
      ]
     },
     "execution_count": 12,
     "metadata": {},
     "output_type": "execute_result"
    }
   ],
   "source": [
    "archs_list = ['PT-unet', 'TF-unet', 'TF-resnet']\n",
    "archs_dd = Dropdown(options=archs_list, value=archs_list[0], description='Network')\n",
    "archs_title = Output(value='Selection of the Neural Network Architecture (inc. Frameworks) </b>')\n",
    "archs_info = Output(value='No selection<br><i>Note: A framework is also selected ...</i>')\n",
    "\n",
    "def on_change(change):\n",
    "    with archs_info:\n",
    "        value = change['new']\n",
    "        print(f\"changed to {value}\") \n",
    "\n",
    "        \n",
    "archs_dd.observe(on_change, names='value')\n",
    "\n",
    "archs_vbox = VBox([archs_title, archs_dd, archs_info])\n",
    "archs_vbox.box_style = 'info'\n",
    "archs_vbox.layout.padding = '0px 0px 0px 0px'\n",
    "archs_vbox.layout.margin = '0px 0px 0px 0px'\n",
    "archs_vbox"
   ]
  },
  {
   "cell_type": "code",
   "execution_count": null,
   "id": "cebdfc15",
   "metadata": {},
   "outputs": [],
   "source": []
  }
 ],
 "metadata": {
  "kernelspec": {
   "display_name": "Python 3 (ipykernel)",
   "language": "python",
   "name": "python3"
  },
  "language_info": {
   "codemirror_mode": {
    "name": "ipython",
    "version": 3
   },
   "file_extension": ".py",
   "mimetype": "text/x-python",
   "name": "python",
   "nbconvert_exporter": "python",
   "pygments_lexer": "ipython3",
   "version": "3.8.15"
  }
 },
 "nbformat": 4,
 "nbformat_minor": 5
}
