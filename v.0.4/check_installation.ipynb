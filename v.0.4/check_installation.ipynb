{
 "cells": [
  {
   "cell_type": "markdown",
   "id": "4957c42e",
   "metadata": {},
   "source": [
    "##### Deepiction V.0.4\n",
    "\n",
    "## **Test Installation of Frameworks**\n",
    "- Tensorflow\n",
    "- Pytorch"
   ]
  },
  {
   "cell_type": "code",
   "execution_count": 1,
   "id": "cc892a30",
   "metadata": {},
   "outputs": [
    {
     "name": "stderr",
     "output_type": "stream",
     "text": [
      "/Users/sage/miniforge3/envs/dl/lib/python3.8/site-packages/tqdm/auto.py:22: TqdmWarning: IProgress not found. Please update jupyter and ipywidgets. See https://ipywidgets.readthedocs.io/en/stable/user_install.html\n",
      "  from .autonotebook import tqdm as notebook_tqdm\n"
     ]
    },
    {
     "name": "stdout",
     "output_type": "stream",
     "text": [
      "\n",
      "\n",
      "\u001b[91m\u001b[1m\u001b[4mResources\u001b[0m\n",
      "Current path: /Users/sage/Desktop/deepiction/v.0.4\n",
      "GPU available:  [PhysicalDevice(name='/physical_device:GPU:0', device_type='GPU')]\n",
      "TensorFlow version:  2.11.0\n",
      "\n",
      "Pytorch version: 2.0.0.dev20221214\n",
      "Pytorch GPU available:  mps\n"
     ]
    }
   ],
   "source": [
    "from deepiction.tools import print_section\n",
    "import torch\n",
    "import os\n",
    "import tensorflow as tf\n",
    "\n",
    "print()\n",
    "print_section('Resources')\n",
    "print('Current path:', os.path.abspath(os.getcwd()))\n",
    "print('GPU available: ', tf.config.list_physical_devices('GPU'))\n",
    "print('TensorFlow version: ', tf. __version__)\n",
    "print()\n",
    "print('Pytorch version:', torch.__version__)\n",
    "device = torch.device('cpu')\n",
    "if torch.cuda.is_available(): device = torch.device('cuda')\n",
    "if torch.has_mps: device = torch.device('mps')\n",
    "print('Pytorch GPU available: ', device)"
   ]
  },
  {
   "cell_type": "code",
   "execution_count": null,
   "id": "ea921113",
   "metadata": {},
   "outputs": [],
   "source": []
  }
 ],
 "metadata": {
  "kernelspec": {
   "display_name": "Python 3 (ipykernel)",
   "language": "python",
   "name": "python3"
  },
  "language_info": {
   "codemirror_mode": {
    "name": "ipython",
    "version": 3
   },
   "file_extension": ".py",
   "mimetype": "text/x-python",
   "name": "python",
   "nbconvert_exporter": "python",
   "pygments_lexer": "ipython3",
   "version": "3.8.15"
  },
  "vscode": {
   "interpreter": {
    "hash": "1aba8edeca63b744ee0bb90ae93dd52f42202e1d13679c86c77921bfa03a5e4f"
   }
  }
 },
 "nbformat": 4,
 "nbformat_minor": 5
}
