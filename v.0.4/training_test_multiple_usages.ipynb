{
 "cells": [
  {
   "cell_type": "markdown",
   "id": "4957c42e",
   "metadata": {},
   "source": [
    "##### Deepiction V.0.4\n",
    "\n",
    "## **Train and Test Deep Neural Networks**\n",
    "- Tensorflow: unet, resnet\n",
    "- Pytorch: unet_ten, unet_n2n"
   ]
  },
  {
   "cell_type": "markdown",
   "id": "986ab412",
   "metadata": {},
   "source": [
    "**1. Import the dependencies**"
   ]
  },
  {
   "cell_type": "code",
   "execution_count": null,
   "id": "cc892a30",
   "metadata": {
    "scrolled": true
   },
   "outputs": [],
   "source": [
    "import numpy as np\n",
    "import os\n",
    "from deepiction.imagedataset import ImageDataset\n",
    "from deepiction.prediction import Prediction\n",
    "from deepiction.training import Training\n",
    "from deepiction.tools import report_resources\n",
    "import warnings\n",
    "warnings.filterwarnings(\"ignore\")\n",
    "report_resources()"
   ]
  },
  {
   "cell_type": "markdown",
   "id": "2c44d413",
   "metadata": {},
   "source": [
    "**2. Selection of the dataset**\n",
    "- task\n",
    "    - binary: pixel classification, input 1 grayscale channel, output mask class=0 or class=1\n",
    "    - nclass: pixel classification in n class, input 1 grayscale channel, output labels\n",
    "    - regress: regression, input 1 grayscale channel, output 1 grayscale channel\n",
    "- norm: (training, test)\n",
    "    - minmax\n",
    "    - div255\n",
    "    - none"
   ]
  },
  {
   "cell_type": "code",
   "execution_count": null,
   "id": "0da927cf",
   "metadata": {
    "scrolled": true
   },
   "outputs": [],
   "source": [
    "#dataname, task, norm = 'simulation-object-256-8-2', 'nclass', ('minmax', 'none')\n",
    "#dataname, task, norm = 'simulation-dmap-256-8-1', 'regres', ('minmax', 'none')\n",
    "#dataname, task, norm = 'simulation-class-256-8-3', 'nclass', ('minmax', 'none')\n",
    "#dataname, task, norm = 'degradation-noisy-p50', 'regres', ('none', 'none')\n",
    "dataname, task, norm = 'simulation-binary-256-8-1', 'binary', ('minmax', 'none')\n",
    "#dataname, task, norm = 'ctc-glioblastoma', 'binary', ('minmax', 'none')\n",
    "\n",
    "datapath  = f'../datasets/{dataname}/'\n",
    "\n",
    "# Training dataset\n",
    "dataset = ImageDataset(datapath)\n",
    "dataset.load_pairs(100, 'train/sources', 'train/targets')\n",
    "dataset.normalization(norm)\n",
    "dataset.report()"
   ]
  },
  {
   "cell_type": "markdown",
   "id": "478db956",
   "metadata": {},
   "source": [
    "**3. Selection of the framework and the network**\n",
    "- PT (tensorflow) PT-unet-ten, PT-unet-n2n\n",
    "- TF (tensorflow) TF-unet, TF-resnet"
   ]
  },
  {
   "cell_type": "code",
   "execution_count": null,
   "id": "d1a54689",
   "metadata": {
    "scrolled": true
   },
   "outputs": [],
   "source": [
    "#netname, extension = 'PT-unet-ten', '.pt'   # not for task nclass\n",
    "netname, extension = 'PT-unet-n2n', '.pt'    # not for task nclass\n",
    "#netname, extension = 'TF-resnet', '.hdf5'\n",
    "#netname, extension = 'TF-unet', '.hdf5'"
   ]
  },
  {
   "cell_type": "markdown",
   "id": "fe770235",
   "metadata": {},
   "source": [
    "**4. Training**"
   ]
  },
  {
   "cell_type": "code",
   "execution_count": null,
   "id": "c7c13b52",
   "metadata": {
    "scrolled": false
   },
   "outputs": [],
   "source": [
    "epochs = 21\n",
    "npools, nchannels = 3, 16\n",
    "batchnorm, dropout = False, 0\n",
    "batchsize, learningrate = 16, 0.001\n",
    "\n",
    "trainname = f'{netname}-{npools}P-{nchannels}C-{epochs}E'\n",
    "reportpath = f'../reports/{dataname}/{trainname}/'\n",
    "pretrainedpath = f'../reports/{dataname}/{trainname}/'\n",
    "\n",
    "if task == 'binary': activation, loss, metric, measure, noutputs = 'sigmoid', 'bce', 'mse', 'iou', 1\n",
    "if task == 'nclass': activation, loss, metric, measure, noutputs = 'softmax', 'categorical_crossentropy', 'accuracy', 'iou', dataset.getNumberOfClasses()  \n",
    "if task == 'regres': activation, loss, metric, measure, noutputs = 'relu', 'mse', 'mse', 'psnr', 1\n",
    "\n",
    "dataset.split(0.25)\n",
    "if task == 'nclass': dataset.makeClassesAsChannels()   \n",
    "training = Training(dataset, reportpath)\n",
    "training.buildnet(netname, noutputs, nchannels, npools, batchnorm, dropout, activation)\n",
    "\n",
    "if True: # Finetuning\n",
    "    training.load_pretrained(os.path.join(pretrainedpath, 'model_best' + extension))\n",
    "training.train(epochs, batchsize, learningrate, loss, metric)"
   ]
  },
  {
   "cell_type": "markdown",
   "id": "6141e273",
   "metadata": {},
   "source": [
    "**5. Test**"
   ]
  },
  {
   "cell_type": "code",
   "execution_count": null,
   "id": "ea921113",
   "metadata": {
    "scrolled": true
   },
   "outputs": [],
   "source": [
    "datatest = ImageDataset(datapath)   \n",
    "datatest.load_pairs(5, 'test/sources', 'test/targets')\n",
    "datatest.normalization(norm)\n",
    "#datatest.report()\n",
    "\n",
    "if task == 'binary': measure = 'iou'\n",
    "if task == 'nclass': measure = 'iou'  \n",
    "if task == 'regres': measure = 'psnr'\n",
    "\n",
    "prediction = Prediction(datatest, reportpath, 'model_best' + extension)\n",
    "preds = prediction.test()\n",
    "if task == 'binary': preds = np.where(preds > 0.5, 1, 0)\n",
    "if task == 'nclass': preds = np.expand_dims(np.argmax(preds, axis=3), axis=3)\n",
    "prediction.print_results(preds, task != 'regres')\n",
    "prediction.figure_results(preds, measure)\n",
    "prediction.save_results(preds)"
   ]
  },
  {
   "cell_type": "code",
   "execution_count": null,
   "id": "7215bc97",
   "metadata": {
    "scrolled": true
   },
   "outputs": [],
   "source": []
  },
  {
   "cell_type": "code",
   "execution_count": null,
   "id": "106ea5e3",
   "metadata": {
    "scrolled": true
   },
   "outputs": [],
   "source": []
  }
 ],
 "metadata": {
  "kernelspec": {
   "display_name": "Python 3 (ipykernel)",
   "language": "python",
   "name": "python3"
  },
  "language_info": {
   "codemirror_mode": {
    "name": "ipython",
    "version": 3
   },
   "file_extension": ".py",
   "mimetype": "text/x-python",
   "name": "python",
   "nbconvert_exporter": "python",
   "pygments_lexer": "ipython3",
   "version": "3.8.15"
  },
  "vscode": {
   "interpreter": {
    "hash": "1aba8edeca63b744ee0bb90ae93dd52f42202e1d13679c86c77921bfa03a5e4f"
   }
  }
 },
 "nbformat": 4,
 "nbformat_minor": 5
}
