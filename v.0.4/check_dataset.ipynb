{
 "cells": [
  {
   "cell_type": "markdown",
   "id": "4957c42e",
   "metadata": {},
   "source": [
    "##### Deepiction V.0.4\n",
    "\n",
    "## **Test Dataset**\n",
    "\n",
    "*File structure*\n",
    "- training\n",
    "    - sources\n",
    "    - targets\n",
    "- test\n",
    "    - sources\n",
    "    - targets\n"
   ]
  },
  {
   "cell_type": "code",
   "execution_count": null,
   "id": "cc892a30",
   "metadata": {},
   "outputs": [],
   "source": [
    "from deepiction.imagedataset import ImageDataset\n",
    "import warnings\n",
    "import os\n",
    "warnings.filterwarnings(\"ignore\")\n",
    "\n",
    "dataname, task, norm = 'clothes', 'nclass', ('minmax', 'none')\n",
    "dataname, task, norm = 'simulation-object-256-8-2', 'nclass', ('minmax', 'none')\n",
    "dataname, task, norm = 'simulation-dmap-256-8-1', 'regres', ('minmax', 'none')\n",
    "dataname, task, norm = 'simulation-class-256-8-3', 'nclass', ('minmax', 'none')\n",
    "dataname, task, norm = 'degradation-noisy-p50', 'regres', ('none', 'none')\n",
    "dataname, task, norm = 'simulation-binary-256-8-1', 'binary', ('minmax', 'none')\n",
    "dataname, task, norm = 'ctc-glioblastoma', 'binary', ('minmax', 'none')\n",
    "\n",
    "print('Current path:', os.path.abspath(os.getcwd()))\n",
    "datapath  = '../datasets/' + dataname\n",
    "\n",
    "# Training dataset\n",
    "dataset = ImageDataset(datapath)\n",
    "dataset.load_pairs(100, 'train/sources', 'train/targets')\n",
    "dataset.normalization(norm)\n",
    "dataset.report()   \n",
    "\n",
    "# Test dataset\n",
    "datatest = ImageDataset(datapath)   \n",
    "datatest.load_pairs(5, 'test/sources', 'test/targets')\n",
    "datatest.normalization(norm)\n",
    "datatest.report()"
   ]
  },
  {
   "cell_type": "code",
   "execution_count": null,
   "id": "ea921113",
   "metadata": {},
   "outputs": [],
   "source": []
  }
 ],
 "metadata": {
  "kernelspec": {
   "display_name": "Python 3 (ipykernel)",
   "language": "python",
   "name": "python3"
  },
  "language_info": {
   "codemirror_mode": {
    "name": "ipython",
    "version": 3
   },
   "file_extension": ".py",
   "mimetype": "text/x-python",
   "name": "python",
   "nbconvert_exporter": "python",
   "pygments_lexer": "ipython3",
   "version": "3.8.15"
  },
  "vscode": {
   "interpreter": {
    "hash": "1aba8edeca63b744ee0bb90ae93dd52f42202e1d13679c86c77921bfa03a5e4f"
   }
  }
 },
 "nbformat": 4,
 "nbformat_minor": 5
}
