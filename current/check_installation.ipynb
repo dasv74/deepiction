{
 "cells": [
  {
   "cell_type": "markdown",
   "id": "4957c42e",
   "metadata": {},
   "source": [
    "##### Deepiction V.0.4\n",
    "\n",
    "## **Test Installation of Frameworks**\n",
    "- Tensorflow\n",
    "- Pytorch"
   ]
  },
  {
   "cell_type": "code",
   "execution_count": 1,
   "id": "cc892a30",
   "metadata": {},
   "outputs": [
    {
     "ename": "ImportError",
     "evalue": "cannot import name 'print_section' from 'deepiction.tools' (/Users/sage/Desktop/deepiction/current/deepiction/tools.py)",
     "output_type": "error",
     "traceback": [
      "\u001b[0;31m---------------------------------------------------------------------------\u001b[0m",
      "\u001b[0;31mImportError\u001b[0m                               Traceback (most recent call last)",
      "Cell \u001b[0;32mIn[1], line 1\u001b[0m\n\u001b[0;32m----> 1\u001b[0m \u001b[38;5;28;01mfrom\u001b[39;00m \u001b[38;5;21;01mdeepiction\u001b[39;00m\u001b[38;5;21;01m.\u001b[39;00m\u001b[38;5;21;01mtools\u001b[39;00m \u001b[38;5;28;01mimport\u001b[39;00m print_section\n\u001b[1;32m      2\u001b[0m \u001b[38;5;28;01mimport\u001b[39;00m \u001b[38;5;21;01mtorch\u001b[39;00m\n\u001b[1;32m      3\u001b[0m \u001b[38;5;28;01mimport\u001b[39;00m \u001b[38;5;21;01mos\u001b[39;00m\n",
      "\u001b[0;31mImportError\u001b[0m: cannot import name 'print_section' from 'deepiction.tools' (/Users/sage/Desktop/deepiction/current/deepiction/tools.py)"
     ]
    }
   ],
   "source": [
    "import torch\n",
    "import os\n",
    "import tensorflow as tf\n",
    "\n",
    "print()\n",
    "print_section('Resources')\n",
    "print('Current path:', os.path.abspath(os.getcwd()))\n",
    "print('GPU available: ', tf.config.list_physical_devices('GPU'))\n",
    "print('TensorFlow version: ', tf. __version__)\n",
    "print()\n",
    "print('Pytorch version:', torch.__version__)\n",
    "device = torch.device('cpu')\n",
    "if torch.cuda.is_available(): device = torch.device('cuda')\n",
    "if torch.has_mps: device = torch.device('mps')\n",
    "print('Pytorch GPU available: ', device)"
   ]
  },
  {
   "cell_type": "code",
   "execution_count": null,
   "id": "ea921113",
   "metadata": {},
   "outputs": [],
   "source": []
  }
 ],
 "metadata": {
  "kernelspec": {
   "display_name": "Python 3 (ipykernel)",
   "language": "python",
   "name": "python3"
  },
  "language_info": {
   "codemirror_mode": {
    "name": "ipython",
    "version": 3
   },
   "file_extension": ".py",
   "mimetype": "text/x-python",
   "name": "python",
   "nbconvert_exporter": "python",
   "pygments_lexer": "ipython3",
   "version": "3.8.15"
  },
  "vscode": {
   "interpreter": {
    "hash": "1aba8edeca63b744ee0bb90ae93dd52f42202e1d13679c86c77921bfa03a5e4f"
   }
  }
 },
 "nbformat": 4,
 "nbformat_minor": 5
}
