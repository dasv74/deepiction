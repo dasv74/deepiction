{
 "cells": [
  {
   "cell_type": "code",
   "execution_count": 18,
   "id": "cc892a30",
   "metadata": {},
   "outputs": [
    {
     "name": "stdout",
     "output_type": "stream",
     "text": [
      "\n",
      "\n",
      "\u001b[36m\u001b[1m\u001b[4mResources\u001b[0m\n",
      "Current path: /Users/sage/Desktop/deepiction/current\n",
      "GPU available:  [PhysicalDevice(name='/physical_device:GPU:0', device_type='GPU')]\n",
      "TensorFlow Version:  2.11.0\n",
      "device mps\n",
      "Pytorch GPU available:  mps\n",
      "\n",
      "\u001b[36m\u001b[1m\u001b[4mDataset folders: pairs of images\u001b[0m\n",
      "../datasets/degradation-noisy-p50/train/sources number of images: 80 files\n",
      "../datasets/degradation-noisy-p50/train/targets number of images: 80 files\n",
      "\n",
      "\n",
      "\u001b[36m\u001b[1m\u001b[4mPT Build architecture PT_dncnn (batchnorm: False dropout: 0)\u001b[0m\n",
      "device mps\n",
      "Training set: (60,60) images\n",
      "Validation set: (20,20) images\n",
      "device mps\n",
      "|1 0.73328 |2 0.68038 |3 0.59994 "
     ]
    },
    {
     "ename": "KeyboardInterrupt",
     "evalue": "",
     "output_type": "error",
     "traceback": [
      "\u001b[0;31m---------------------------------------------------------------------------\u001b[0m",
      "\u001b[0;31mKeyboardInterrupt\u001b[0m                         Traceback (most recent call last)",
      "Cell \u001b[0;32mIn[18], line 40\u001b[0m\n\u001b[1;32m     38\u001b[0m accuracy \u001b[38;5;241m=\u001b[39m \u001b[38;5;124m'\u001b[39m\u001b[38;5;124mmae\u001b[39m\u001b[38;5;124m'\u001b[39m\n\u001b[1;32m     39\u001b[0m training \u001b[38;5;241m=\u001b[39m Training(dataset, model, path, split_validation\u001b[38;5;241m=\u001b[39m\u001b[38;5;241m0.25\u001b[39m)\n\u001b[0;32m---> 40\u001b[0m report_training \u001b[38;5;241m=\u001b[39m \u001b[43mtraining\u001b[49m\u001b[38;5;241;43m.\u001b[39;49m\u001b[43mtrain\u001b[49m\u001b[43m(\u001b[49m\u001b[43mepochs\u001b[49m\u001b[43m,\u001b[49m\u001b[43m \u001b[49m\u001b[38;5;241;43m16\u001b[39;49m\u001b[43m,\u001b[49m\u001b[43m \u001b[49m\u001b[38;5;241;43m0.001\u001b[39;49m\u001b[43m,\u001b[49m\u001b[43m \u001b[49m\u001b[43mloss\u001b[49m\u001b[43m,\u001b[49m\u001b[43m \u001b[49m\u001b[43maccuracy\u001b[49m\u001b[43m)\u001b[49m\n\u001b[1;32m     42\u001b[0m \u001b[38;5;66;03m# Load test dataset\u001b[39;00m\n\u001b[1;32m     43\u001b[0m dataset \u001b[38;5;241m=\u001b[39m ImageDataset(datapath, \u001b[38;5;124m'\u001b[39m\u001b[38;5;124mtest/sources\u001b[39m\u001b[38;5;124m'\u001b[39m, \u001b[38;5;124m'\u001b[39m\u001b[38;5;124mtest/targets\u001b[39m\u001b[38;5;124m'\u001b[39m)\n",
      "File \u001b[0;32m~/Desktop/deepiction/current/deepiction/training.py:62\u001b[0m, in \u001b[0;36mTraining.train\u001b[0;34m(self, epochs, batchsize, learningrate, lossname, accname)\u001b[0m\n\u001b[1;32m     48\u001b[0m report \u001b[38;5;241m=\u001b[39m {\n\u001b[1;32m     49\u001b[0m   \u001b[38;5;124m'\u001b[39m\u001b[38;5;124mFramework\u001b[39m\u001b[38;5;124m'\u001b[39m: report_framework,\n\u001b[1;32m     50\u001b[0m   \u001b[38;5;124m'\u001b[39m\u001b[38;5;124mModel\u001b[39m\u001b[38;5;124m'\u001b[39m: \u001b[38;5;124mf\u001b[39m\u001b[38;5;124m'\u001b[39m\u001b[38;5;132;01m{\u001b[39;00m\u001b[38;5;28mtype\u001b[39m(\u001b[38;5;28mself\u001b[39m\u001b[38;5;241m.\u001b[39mmodel)\u001b[38;5;132;01m}\u001b[39;00m\u001b[38;5;124m weights: \u001b[39m\u001b[38;5;132;01m{\u001b[39;00mparameters(\u001b[38;5;28mself\u001b[39m\u001b[38;5;241m.\u001b[39mmodel)\u001b[38;5;132;01m}\u001b[39;00m\u001b[38;5;124m'\u001b[39m,\n\u001b[0;32m   (...)\u001b[0m\n\u001b[1;32m     58\u001b[0m   \u001b[38;5;124m'\u001b[39m\u001b[38;5;124mStarting time\u001b[39m\u001b[38;5;124m'\u001b[39m:  datetime\u001b[38;5;241m.\u001b[39mdatetime\u001b[38;5;241m.\u001b[39mnow(),\n\u001b[1;32m     59\u001b[0m }\n\u001b[1;32m     61\u001b[0m \u001b[38;5;28;01mif\u001b[39;00m is_pytorch(\u001b[38;5;28mself\u001b[39m\u001b[38;5;241m.\u001b[39mmodel): \n\u001b[0;32m---> 62\u001b[0m   report \u001b[38;5;241m=\u001b[39m \u001b[38;5;28;43mself\u001b[39;49m\u001b[38;5;241;43m.\u001b[39;49m\u001b[43mtrain_torch\u001b[49m\u001b[43m(\u001b[49m\u001b[43mreport\u001b[49m\u001b[43m,\u001b[49m\u001b[43m \u001b[49m\u001b[43mepochs\u001b[49m\u001b[43m,\u001b[49m\u001b[43m \u001b[49m\u001b[43mbatchsize\u001b[49m\u001b[43m,\u001b[49m\u001b[43m \u001b[49m\u001b[43mlearningrate\u001b[49m\u001b[43m,\u001b[49m\u001b[43m \u001b[49m\u001b[43mocc\u001b[49m\u001b[43m)\u001b[49m\n\u001b[1;32m     63\u001b[0m \u001b[38;5;28;01melif\u001b[39;00m is_tensorflow(\u001b[38;5;28mself\u001b[39m\u001b[38;5;241m.\u001b[39mmodel):\n\u001b[1;32m     64\u001b[0m   report \u001b[38;5;241m=\u001b[39m \u001b[38;5;28mself\u001b[39m\u001b[38;5;241m.\u001b[39mtrain_tensorflow(report, epochs, batchsize, learningrate, occ)\n",
      "File \u001b[0;32m~/Desktop/deepiction/current/deepiction/training.py:115\u001b[0m, in \u001b[0;36mTraining.train_torch\u001b[0;34m(self, report, epochs, batchsize, learningrate, occurence)\u001b[0m\n\u001b[1;32m    113\u001b[0m outputs \u001b[38;5;241m=\u001b[39m \u001b[38;5;28mself\u001b[39m\u001b[38;5;241m.\u001b[39mmodel(inputs)\n\u001b[1;32m    114\u001b[0m loss \u001b[38;5;241m=\u001b[39m lossfunction(outputs, targets)\n\u001b[0;32m--> 115\u001b[0m run_loss \u001b[38;5;241m+\u001b[39m\u001b[38;5;241m=\u001b[39m (\u001b[43mloss\u001b[49m\u001b[38;5;241;43m.\u001b[39;49m\u001b[43mitem\u001b[49m\u001b[43m(\u001b[49m\u001b[43m)\u001b[49m \u001b[38;5;241m-\u001b[39m run_loss) \u001b[38;5;241m/\u001b[39m (count \u001b[38;5;241m+\u001b[39m \u001b[38;5;241m1\u001b[39m)\n\u001b[1;32m    116\u001b[0m loss\u001b[38;5;241m.\u001b[39mbackward()\n\u001b[1;32m    117\u001b[0m optimizer\u001b[38;5;241m.\u001b[39mstep()\n",
      "\u001b[0;31mKeyboardInterrupt\u001b[0m: "
     ]
    }
   ],
   "source": [
    "import numpy as np\n",
    "import os\n",
    "from os.path import join\n",
    "import torch\n",
    "from deepiction.manager import load_model, create_model, create_report, predict_model, compute_metrics\n",
    "from deepiction.imagedataset import ImageDataset\n",
    "from deepiction.test import Test\n",
    "from deepiction.training import Training\n",
    "from deepiction.tools import Tools\n",
    "\n",
    "Tools.resources()\n",
    "name = 'PT_dncnn' #'TF_unet' \n",
    "epochs = 20\n",
    "\n",
    "dataname = 'degradation-noisy-p50'\n",
    "datapath  = os.path.join('../datasets', dataname)\n",
    "path = os.path.join('../reports', dataname, f'{name}-{epochs}')\n",
    "\n",
    "# Load training data\n",
    "norm = ('minmax', 'minmax')\n",
    "color = False\n",
    "dataset = ImageDataset(datapath, 'train/sources', 'train/targets')\n",
    "dataset.load(100, norm, color)\n",
    "\n",
    "# Create the model\n",
    "nchannels = 32\n",
    "npools = 10\n",
    "ninputs = 1\n",
    "nouputs = 1\n",
    "imagesize = dataset.get_image_size()\n",
    "model = create_model(name, imagesize, ninputs, nouputs, nchannels, npools, activation='relu')\n",
    "\n",
    "# Training\n",
    "\n",
    "batchsize = 16\n",
    "lr = 0.001\n",
    "loss = 'mse'\n",
    "accuracy = 'mae'\n",
    "training = Training(dataset, model, path, split_validation=0.25)\n",
    "report_training = training.train(epochs, 16, 0.001, loss, accuracy)\n",
    "\n",
    "# Load test dataset\n",
    "dataset = ImageDataset(datapath, 'test/sources', 'test/targets')\n",
    "dataset.load(100, norm, color)\n",
    "\n",
    "# Test\n",
    "test = Test(model)\n",
    "report_test = test.run(dataset, 'psnr', path)\n",
    "create_report(path)\n",
    "\n",
    "# Prediction\n",
    "'''\n",
    "model = load_model(join(path, 'model_last_4'))\n",
    "preds = predict_model(model, dataset.sources)\n",
    "metrics = compute_metrics(dataset, preds, 'rmse')\n",
    "print(metrics)\n",
    "'''\n",
    "\n"
   ]
  },
  {
   "cell_type": "code",
   "execution_count": null,
   "id": "f1e96de0",
   "metadata": {},
   "outputs": [],
   "source": []
  }
 ],
 "metadata": {
  "kernelspec": {
   "display_name": "Python 3 (ipykernel)",
   "language": "python",
   "name": "python3"
  },
  "language_info": {
   "codemirror_mode": {
    "name": "ipython",
    "version": 3
   },
   "file_extension": ".py",
   "mimetype": "text/x-python",
   "name": "python",
   "nbconvert_exporter": "python",
   "pygments_lexer": "ipython3",
   "version": "3.8.15"
  },
  "vscode": {
   "interpreter": {
    "hash": "1aba8edeca63b744ee0bb90ae93dd52f42202e1d13679c86c77921bfa03a5e4f"
   }
  }
 },
 "nbformat": 4,
 "nbformat_minor": 5
}
